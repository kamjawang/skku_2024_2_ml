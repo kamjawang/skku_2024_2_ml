{
 "cells": [
  {
   "cell_type": "code",
   "execution_count": null,
   "metadata": {},
   "outputs": [],
   "source": [
    "# I used python kernel 3.10.15 + nvidia RTX 3090 + cuda 12.1 in local machine\n",
    "\n",
    "# install ralated modules\n",
    "%pip install torch==2.1.1 torchvision==0.16.1   # compatible version of pytorch and torchvision for mamba-ssm \n",
    "%pip install causal-conv1d==1.1.1   # causal dpthwise conv 1d  module in CUDA with pytorch\n",
    "%pip install mamba-ssm  # Mamba block module"
   ]
  },
  {
   "cell_type": "code",
   "execution_count": 2,
   "metadata": {},
   "outputs": [],
   "source": [
    "# import modules\n",
    "\n",
    "import torch\n",
    "from torch.utils.data import Dataset, DataLoader\n",
    "from torchsummary import summary\n",
    "\n",
    "from sklearn.utils import class_weight\n",
    "from sklearn.preprocessing import LabelEncoder, OneHotEncoder, OrdinalEncoder, StandardScaler,MinMaxScaler\n",
    "from sklearn.compose import ColumnTransformer\n",
    "from sklearn.pipeline import Pipeline\n",
    "from sklearn.impute import SimpleImputer\n",
    "from sklearn.model_selection import train_test_split\n",
    "from sklearn.metrics import roc_auc_score, roc_curve\n",
    "import tqdm\n",
    "\n",
    "from mamba_ssm import Mamba\n",
    "\n",
    "import numpy as np\n",
    "import pandas as pd\n",
    "from pandas.api.types import is_string_dtype\n",
    "import matplotlib.pyplot as plt\n",
    "\n",
    "import copy\n",
    "from collections import defaultdict"
   ]
  },
  {
   "cell_type": "code",
   "execution_count": 3,
   "metadata": {},
   "outputs": [
    {
     "name": "stdout",
     "output_type": "stream",
     "text": [
      "torch:  2.1 ; cuda:  cu121\n"
     ]
    },
    {
     "data": {
      "text/plain": [
       "True"
      ]
     },
     "execution_count": 3,
     "metadata": {},
     "output_type": "execute_result"
    }
   ],
   "source": [
    "# Check environments\n",
    "TORCH_VERSION = \".\".join(torch.__version__.split(\".\")[:2])\n",
    "CUDA_VERSION = torch.__version__.split(\"+\")[-1]\n",
    "print(\"torch: \", TORCH_VERSION, \"; cuda: \", CUDA_VERSION)\n",
    "torch.cuda.is_available()"
   ]
  },
  {
   "cell_type": "code",
   "execution_count": 4,
   "metadata": {},
   "outputs": [
    {
     "name": "stdout",
     "output_type": "stream",
     "text": [
      "mkdir: `./datasets' 디렉터리를 만들 수 없습니다: 파일이 있습니다\n",
      "mkdir: `./datasets/adult' 디렉터리를 만들 수 없습니다: 파일이 있습니다\n",
      "‘adult.zip’ 파일이 이미 있습니다. 가져오지 않음.\n",
      "\n",
      "Archive:  ./adult.zip\n",
      "  inflating: ./datasets/adult/Index  \n",
      "  inflating: ./datasets/adult/adult.data  \n",
      "  inflating: ./datasets/adult/adult.names  \n",
      "  inflating: ./datasets/adult/adult.test  \n",
      "  inflating: ./datasets/adult/old.adult.names  \n"
     ]
    }
   ],
   "source": [
    "# Get original data\n",
    "!mkdir ./datasets\n",
    "!mkdir ./datasets/adult\n",
    "!wget -nc https://archive.ics.uci.edu/static/public/2/adult.zip\n",
    "!unzip -o ./adult.zip -d ./datasets/adult\n",
    "!cp -rf ./datasets/adult/adult.data ./datasets/adult/data_processed.csv"
   ]
  },
  {
   "cell_type": "code",
   "execution_count": 5,
   "metadata": {},
   "outputs": [],
   "source": [
    "# Set Configuration for MambaTab\n",
    "config={\n",
    "    'DATASET_NAME':'adult',\n",
    "    'SEED':15, # random seed 지정\n",
    "    'BATCH':100,\n",
    "    'LR':0.0001,\n",
    "    'EPOCH':1000,\n",
    "    'MAMBA_SSM_DIM':32,  # MAMBA model의 dimension 설정 (d_model: Selective Structured State Machine에 담을 최대 Dimension)\n",
    "    'device':'cuda'}"
   ]
  },
  {
   "cell_type": "code",
   "execution_count": 6,
   "metadata": {},
   "outputs": [],
   "source": [
    "# data load and preparing\n",
    "\n",
    "def read_data(dataset_name):\n",
    "    data=pd.read_csv('./datasets/'+dataset_name+'/data_processed'+'.csv')\n",
    "    \n",
    "    # fill null values\n",
    "    for col in data.columns: \n",
    "        #data[col].fillna(data[col].mode()[0], inplace=True)\n",
    "        data[col] = data[col].fillna(data[col].mode()[0])\n",
    "\n",
    "    # categorical encoder: 문자열인 경우 소문자로 통일하고, 숫자로 인코딩 처리\n",
    "    for c in data.columns:\n",
    "        if is_string_dtype(data[c]):\n",
    "            data[c]=data[c].str.lower()\n",
    "            enc=OrdinalEncoder()\n",
    "            cur_data=np.array(data[c])\n",
    "            cur_data=np.reshape(cur_data,(cur_data.shape[0],1))\n",
    "            data[c] = enc.fit_transform(cur_data)\n",
    "\n",
    "    # 마지막 column을 lable로 처리\n",
    "    y_data=data[data.columns[-1]]\n",
    "\n",
    "    x_data = data.drop(labels = [data.columns[-1]],axis = 1)\n",
    "    x_data=MinMaxScaler().fit_transform(x_data) # 데이터 스케일링 처리\n",
    "    x_data,y_data=np.array(x_data),np.array(y_data)\n",
    "    \n",
    "    return x_data,y_data"
   ]
  },
  {
   "cell_type": "code",
   "execution_count": 7,
   "metadata": {},
   "outputs": [],
   "source": [
    "# MambaTab Class\n",
    "\n",
    "class MambaTab(torch.nn.Module):\n",
    "\n",
    "    def __init__(self,input_features,n_class,intermediate_representation=config['MAMBA_SSM_DIM']):\n",
    "        super(MambaTab, self).__init__()\n",
    "        self.linear_layer=torch.nn.Linear(input_features,intermediate_representation)\n",
    "        self.relu=torch.nn.ReLU()\n",
    "        self.layer_norm=torch.nn.LayerNorm(intermediate_representation)\n",
    "\n",
    "        self.mamba=Mamba(d_model=intermediate_representation, d_state=32, d_conv=4, expand=2) # to fine-tuning\n",
    "        self.output_layer=torch.nn.Linear(intermediate_representation,n_class)\n",
    "    \n",
    "    def forward(self, x):\n",
    "         x=self.linear_layer(x)\n",
    "         x=self.layer_norm(x)\n",
    "         x=self.relu(x)\n",
    "         x=self.mamba(x)\n",
    "         x=self.output_layer(x)\n",
    "         return x"
   ]
  },
  {
   "cell_type": "code",
   "execution_count": 8,
   "metadata": {},
   "outputs": [],
   "source": [
    "# Training function\n",
    "\n",
    "def train_model(model,config, dataloader):\n",
    "    best_model_wts = copy.deepcopy(model.state_dict())\n",
    "    best_loss = 1e10\n",
    "    early_stopping_counter=0\n",
    "\n",
    "    optimizer=torch.optim.Adam(model.parameters(),lr=config['LR'])  # Optimizer setting: Adam\n",
    "    scheduler = torch.optim.lr_scheduler.CosineAnnealingLR(optimizer, T_max=config['EPOCH'], eta_min=0,verbose=False)\n",
    "    loss_fn=torch.nn.BCEWithLogitsLoss()    # 이진분류 처리를 위해 BCEWithLogitLoss 함수 사용\n",
    "  \n",
    "    for epoch in tqdm.tqdm(range(config['EPOCH'])):\n",
    "        if early_stopping_counter>=5:\n",
    "          break\n",
    "        \n",
    "        for phase in ['train', 'val']:      \n",
    "            if phase == 'train':               \n",
    "                model.train()  \n",
    "            else:\n",
    "                model.eval()  \n",
    "            \n",
    "            metrics = defaultdict(float)\n",
    "            epoch_samples = 0\n",
    "          \n",
    "            for btch,feed_dict in enumerate(dataloader[phase]):\n",
    "                inputs=feed_dict[0]\n",
    "                inputs=inputs.unsqueeze(0)\n",
    "                labels=feed_dict[1]\n",
    "                \n",
    "                inputs = inputs.type(torch.FloatTensor)\n",
    "                inputs = inputs.to(config['device'])\n",
    "                labels = labels.type(torch.FloatTensor)\n",
    "                labels = labels.to(config['device'])\n",
    "                \n",
    "                optimizer.zero_grad()\n",
    "\n",
    "                with torch.set_grad_enabled(phase == 'train'):\n",
    "                    outputs = model(inputs)  \n",
    "                    outputs=outputs.squeeze()  \n",
    "                    loss=loss_fn(outputs,labels)\n",
    "                    metrics['loss']+=loss.item()\n",
    "                \n",
    "                    if phase == 'train':\n",
    "                        loss.backward()\n",
    "                        optimizer.step()  \n",
    "                \n",
    "                epoch_samples += 1 \n",
    "           \n",
    "            epoch_loss = metrics['loss'] / epoch_samples\n",
    "\n",
    "            if phase == 'val':\n",
    "           \n",
    "                if epoch_loss<best_loss:\n",
    "                    best_model_wts = copy.deepcopy(model.state_dict())\n",
    "                    best_loss=epoch_loss\n",
    "                    early_stopping_counter=0\n",
    "                else:\n",
    "                    early_stopping_counter+=1\n",
    "\n",
    "        scheduler.step()           \n",
    "    \n",
    "    model.load_state_dict(best_model_wts)       \n",
    "    \n",
    "    return model"
   ]
  },
  {
   "cell_type": "code",
   "execution_count": 9,
   "metadata": {},
   "outputs": [],
   "source": [
    "# Test and evaluation\n",
    "\n",
    "def test_result(test_model, test_dataloader):\n",
    "\n",
    "  test_model.eval()\n",
    "\n",
    "  all_probs=[]\n",
    "  all_labels=[]\n",
    "  \n",
    "  sig=torch.nn.Sigmoid()  # 이진분류 처리를 위해 BCEWithLogitLoss 함수와 함께 Sigmoid 사용\n",
    "\n",
    "  for inputs,labels in test_dataloader['test']:\n",
    "    inputs = inputs.unsqueeze(0)\n",
    "    inputs = inputs.type(torch.FloatTensor)\n",
    "    inputs = inputs.to(config['device'])\n",
    "    \n",
    "    labels = labels.to(config['device'])\n",
    "\n",
    "    with torch.set_grad_enabled(False):\n",
    "      outputs = test_model(inputs)\n",
    "      outputs=outputs.squeeze()\n",
    "      outputs=sig(outputs)\n",
    "                           \n",
    "      outputs=outputs.cpu().detach().numpy()\n",
    "      labels=labels.cpu().detach().numpy()\n",
    "\n",
    "      for i in range(outputs.shape[0]):\n",
    "         all_labels.append(labels[i])\n",
    "         all_probs.append(outputs[i])\n",
    "         \n",
    "  auroc_score = roc_auc_score(all_labels,all_probs)\n",
    "  print(\"AUROC score: \", auroc_score)\n",
    "\n",
    "  return all_labels, all_probs, auroc_score\n"
   ]
  },
  {
   "cell_type": "code",
   "execution_count": 10,
   "metadata": {},
   "outputs": [
    {
     "name": "stdout",
     "output_type": "stream",
     "text": [
      "Train: (22792, 14)\n",
      "Val: (3256, 14)\n",
      "Test: (6512, 14)\n"
     ]
    }
   ],
   "source": [
    "# Data loading and data split\n",
    "\n",
    "x_data,y_data=read_data(dataset_name=config['DATASET_NAME'])\n",
    "\n",
    "x_train,x_test,y_train,y_test=train_test_split(x_data,y_data,test_size=0.2,random_state=config['SEED'],stratify=y_data,shuffle=True)\n",
    "val_size=int(len(y_data)*0.1)\n",
    "x_train,x_val,y_train,y_val=train_test_split(x_train,y_train,test_size=val_size,random_state=config['SEED'],stratify=y_train, shuffle=True)\n",
    "\n",
    "print(\"Train:\",x_train.shape)\n",
    "print(\"Val:\",x_val.shape)\n",
    "print(\"Test:\",x_test.shape)"
   ]
  },
  {
   "cell_type": "code",
   "execution_count": 11,
   "metadata": {},
   "outputs": [],
   "source": [
    "# Data Lodader wrapper\n",
    "\n",
    "class TabularDataLoader(Dataset):\n",
    "\n",
    "    def __init__(self,length,data_type):\n",
    "        self.length=length\n",
    "        self.data_type=data_type\n",
    "\n",
    "    def __len__(self):\n",
    "        return self.length\n",
    "\n",
    "    def __getitem__(self, idx):\n",
    "        if self.data_type=='train':\n",
    "            return x_train[idx],y_train[idx]\n",
    "        if self.data_type=='val':\n",
    "            return x_val[idx],y_val[idx]\n",
    "        if self.data_type=='test':\n",
    "           return x_test[idx],y_test[idx]"
   ]
  },
  {
   "cell_type": "code",
   "execution_count": 12,
   "metadata": {},
   "outputs": [],
   "source": [
    "# Preparing Dataloaders\n",
    "train_set = TabularDataLoader(length=x_train.shape[0],data_type='train')\n",
    "val_set = TabularDataLoader(length=x_val.shape[0],data_type='val')\n",
    "test_set = TabularDataLoader(length=x_test.shape[0],data_type='test')\n",
    "\n",
    "dataloader = {\n",
    "      'train': DataLoader(train_set, batch_size=config['BATCH'], shuffle=True, num_workers=0),\n",
    "      'val': DataLoader(val_set, batch_size=config['BATCH'], shuffle=False, num_workers=0),\n",
    "      'test': DataLoader(test_set, batch_size=config['BATCH'], shuffle=False, num_workers=0)\n",
    "   }\n",
    "\n",
    "# Get the model: \"n_class=1 is to use a single output logit strategy,  where n_class does not refer to the number of classes and is sufficient for binary classification\"\n",
    "model=MambaTab(input_features=x_train.shape[1], n_class=1)\n",
    "model=model.to(config['device'])\n"
   ]
  },
  {
   "cell_type": "code",
   "execution_count": 13,
   "metadata": {},
   "outputs": [
    {
     "name": "stdout",
     "output_type": "stream",
     "text": [
      "----------------------------------------------------------------\n",
      "        Layer (type)               Output Shape         Param #\n",
      "================================================================\n",
      "            Linear-1            [-1, 22792, 32]             480\n",
      "         LayerNorm-2            [-1, 22792, 32]              64\n",
      "              ReLU-3            [-1, 22792, 32]               0\n",
      "            Conv1d-4            [-1, 64, 22795]             320\n",
      "              SiLU-5            [-1, 64, 22792]               0\n",
      "            Linear-6                   [-1, 66]           4,224\n",
      "            Linear-7            [-1, 22792, 32]           2,048\n",
      "             Mamba-8            [-1, 22792, 32]               0\n",
      "            Linear-9             [-1, 22792, 1]              33\n",
      "================================================================\n",
      "Total params: 7,169\n",
      "Trainable params: 7,169\n",
      "Non-trainable params: 0\n",
      "----------------------------------------------------------------\n",
      "Input size (MB): 1.22\n",
      "Forward/backward pass size (MB): 50.26\n",
      "Params size (MB): 0.03\n",
      "Estimated Total Size (MB): 51.50\n",
      "----------------------------------------------------------------\n"
     ]
    }
   ],
   "source": [
    "summary(model, x_train.shape)"
   ]
  },
  {
   "cell_type": "code",
   "execution_count": 14,
   "metadata": {},
   "outputs": [
    {
     "name": "stderr",
     "output_type": "stream",
     "text": [
      "  8%|▊         | 84/1000 [00:47<08:39,  1.76it/s]"
     ]
    },
    {
     "name": "stdout",
     "output_type": "stream",
     "text": [
      "\n",
      "\n",
      "AUROC score:  0.903466658204544\n"
     ]
    },
    {
     "name": "stderr",
     "output_type": "stream",
     "text": [
      "\n"
     ]
    }
   ],
   "source": [
    "#Train-validate the model\n",
    "model=train_model(model,config, dataloader)\n",
    "\n",
    "print(\"\\n\")\n",
    "\n",
    "# Get test set performance\n",
    "all_labels, all_probs, auroc_score = test_result(model, dataloader)\n"
   ]
  },
  {
   "cell_type": "code",
   "execution_count": 15,
   "metadata": {},
   "outputs": [
    {
     "data": {
      "image/png": "[encoded data removed]",
      "text/plain": [
       "<Figure size 800x600 with 1 Axes>"
      ]
     },
     "metadata": {},
     "output_type": "display_data"
    }
   ],
   "source": [
    "#ROC Curve visualization\n",
    "\n",
    "fpr, tpr, thresholds = roc_curve(all_labels, all_probs)\n",
    "\n",
    "plt.figure(figsize=(8, 6))\n",
    "plt.plot(fpr, tpr, label=f'ROC curve (AUROC = {auroc_score:.2f})')\n",
    "plt.plot([0, 1], [0, 1], 'r--')\n",
    "plt.xlabel('False Positive Rate')\n",
    "plt.ylabel('True Positive Rate')\n",
    "plt.title('ROC Curve')\n",
    "plt.legend(loc=\"lower right\")\n",
    "plt.tight_layout()\n",
    "plt.show()\n"
   ]
  }
 ],
 "metadata": {
  "kernelspec": {
   "display_name": "mambatab_env",
   "language": "python",
   "name": "python3"
  },
  "language_info": {
   "codemirror_mode": {
    "name": "ipython",
    "version": 3
   },
   "file_extension": ".py",
   "mimetype": "text/x-python",
   "name": "python",
   "nbconvert_exporter": "python",
   "pygments_lexer": "ipython3",
   "version": "3.10.15"
  }
 },
 "nbformat": 4,
 "nbformat_minor": 2
}
