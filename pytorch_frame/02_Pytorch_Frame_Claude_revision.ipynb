{
  "nbformat": 4,
  "nbformat_minor": 0,
  "metadata": {
    "colab": {
      "provenance": []
    },
    "kernelspec": {
      "name": "python3",
      "display_name": "Python 3"
    },
    "language_info": {
      "name": "python"
    }
  },
  "cells": [
    {
      "cell_type": "code",
      "execution_count": null,
      "metadata": {
        "id": "Bi6hi16ntj9_"
      },
      "outputs": [],
      "source": [
        "import torch\n",
        "import torch.nn as nn\n",
        "import torch.optim as optim\n",
        "from torch.utils.data import DataLoader, TensorDataset\n",
        "from sklearn.model_selection import train_test_split\n",
        "from sklearn.preprocessing import StandardScaler, LabelEncoder, OneHotEncoder\n",
        "from sklearn.compose import ColumnTransformer\n",
        "from sklearn.pipeline import Pipeline\n",
        "from sklearn.impute import SimpleImputer\n",
        "import numpy as np\n",
        "import pandas as pd\n",
        "from tqdm import tqdm\n",
        "from sklearn.metrics import roc_auc_score, roc_curve\n",
        "import matplotlib.pyplot as plt\n",
        "from sklearn.datasets import fetch_openml"
      ]
    },
    {
      "cell_type": "code",
      "source": [
        "# 데이터 로드\n",
        "data = fetch_openml(name='adult', version=1, as_frame=True)\n",
        "df = data.frame\n",
        "\n",
        "# 데이터 전처리 함수\n",
        "def preprocess_dataframe(df):\n",
        "    df_processed = df.copy()\n",
        "\n",
        "    for column in df_processed.columns:\n",
        "        # 카테고리 처리\n",
        "        if df_processed[column].dtype == 'category' or df_processed[column].dtype == 'object':\n",
        "            # 'Unknown' 카테고리 추가\n",
        "            if pd.api.types.is_categorical_dtype(df_processed[column]):\n",
        "                df_processed[column] = df_processed[column].cat.add_categories(['Unknown'])\n",
        "            # 결측값 대체\n",
        "            df_processed[column] = df_processed[column].fillna('Unknown')\n",
        "\n",
        "            # 레이블 인코딩\n",
        "            le = LabelEncoder()\n",
        "            df_processed[column] = le.fit_transform(df_processed[column].astype(str))\n",
        "\n",
        "        # 수치형 처리\n",
        "        elif df_processed[column].dtype in ['int64', 'float64']:\n",
        "            # 결측값 중앙값으로 대체\n",
        "            df_processed[column] = df_processed[column].fillna(df_processed[column].median())\n",
        "\n",
        "    return df_processed\n",
        "\n",
        "# 데이터 전처리\n",
        "df_processed = preprocess_dataframe(df)"
      ],
      "metadata": {
        "id": "w7GQ-6BIPE71"
      },
      "execution_count": null,
      "outputs": []
    },
    {
      "cell_type": "code",
      "source": [
        "# 특성과 타겟 분리\n",
        "X_data = df_processed.drop('class', axis=1)\n",
        "y_data = df_processed['class']\n",
        "\n",
        "# 이진 클래스 레이블 변환\n",
        "y_data = (y_data == 1).astype(int)\n",
        "\n",
        "# 데이터 분할\n",
        "X_train, X_test, y_train, y_test = train_test_split(X_data, y_data, test_size=0.2, random_state=42)"
      ],
      "metadata": {
        "id": "5O00xq_1PLy5"
      },
      "execution_count": null,
      "outputs": []
    },
    {
      "cell_type": "code",
      "source": [
        "# 데이터 표준화\n",
        "scaler = StandardScaler()\n",
        "X_train = scaler.fit_transform(X_train)\n",
        "X_test = scaler.transform(X_test)\n",
        "\n",
        "# PyTorch 텐서로 변환\n",
        "X_train = torch.FloatTensor(X_train)\n",
        "X_test = torch.FloatTensor(X_test)\n",
        "y_train = torch.LongTensor(y_train.values)\n",
        "y_test = torch.LongTensor(y_test.values)\n",
        "\n",
        "# DataLoader 생성\n",
        "train_dataset = TensorDataset(X_train, y_train)\n",
        "test_dataset = TensorDataset(X_test, y_test)\n",
        "train_loader = DataLoader(train_dataset, batch_size=64, shuffle=True)\n",
        "test_loader = DataLoader(test_dataset, batch_size=64)\n",
        "\n",
        "# 컬럼 간 상호작용 클래스\n",
        "class ColumnWiseInteraction(nn.Module):\n",
        "    def __init__(self, input_dim):\n",
        "        super().__init__()\n",
        "        self.interaction_weights = nn.Parameter(torch.randn(input_dim, input_dim))\n",
        "\n",
        "    def forward(self, x):\n",
        "        interactions = torch.matmul(x, self.interaction_weights)\n",
        "        return torch.cat([x, interactions], dim=1)\n",
        "\n",
        "# Transformer 기반 분류 모델\n",
        "class TransformerClassifier(nn.Module):\n",
        "    def __init__(self, input_dim, hidden_dim, num_heads, num_classes):\n",
        "        super().__init__()\n",
        "        self.column_interaction = ColumnWiseInteraction(input_dim)\n",
        "        self.positional_encoding = nn.Parameter(torch.randn(1, input_dim * 2))\n",
        "\n",
        "        encoder_layer = nn.TransformerEncoderLayer(\n",
        "            d_model=input_dim * 2,\n",
        "            nhead=num_heads,\n",
        "            dim_feedforward=hidden_dim\n",
        "        )\n",
        "        self.transformer_encoder = nn.TransformerEncoder(encoder_layer, num_layers=2)\n",
        "\n",
        "        self.classifier = nn.Sequential(\n",
        "            nn.Linear(input_dim * 2, hidden_dim),\n",
        "            nn.ReLU(),\n",
        "            nn.Dropout(0.3),\n",
        "            nn.Linear(hidden_dim, num_classes)\n",
        "        )\n",
        "\n",
        "    def forward(self, x):\n",
        "        x = self.column_interaction(x)\n",
        "        x = x + self.positional_encoding.expand_as(x)\n",
        "        x = x.unsqueeze(0)\n",
        "        x = self.transformer_encoder(x)\n",
        "        x = x.squeeze(0)\n",
        "        return self.classifier(x)\n",
        "\n",
        "# 모델 학습 함수\n",
        "def train_model(model, train_loader, criterion, optimizer, device):\n",
        "    model.train()\n",
        "    total_loss = 0\n",
        "    for batch_x, batch_y in train_loader:\n",
        "        batch_x, batch_y = batch_x.to(device), batch_y.to(device)\n",
        "        optimizer.zero_grad()\n",
        "        outputs = model(batch_x)\n",
        "        loss = criterion(outputs, batch_y)\n",
        "        loss.backward()\n",
        "        optimizer.step()\n",
        "        total_loss += loss.item()\n",
        "    return total_loss / len(train_loader)\n",
        "\n",
        "# 모델 평가 함수\n",
        "def evaluate_model(model, test_loader, device):\n",
        "    model.eval()\n",
        "    correct = 0\n",
        "    total = 0\n",
        "    with torch.no_grad():\n",
        "        for batch_x, batch_y in test_loader:\n",
        "            batch_x, batch_y = batch_x.to(device), batch_y.to(device)\n",
        "            outputs = model(batch_x)\n",
        "            _, predicted = torch.max(outputs.data, 1)\n",
        "            total += batch_y.size(0)\n",
        "            correct += (predicted == batch_y).sum().item()\n",
        "    return 100 * correct / total\n",
        "\n",
        "# AUROC 계산 및 시각화 함수\n",
        "def calculate_and_plot_auroc(model, test_loader, device):\n",
        "    model.eval()\n",
        "    all_probs = []\n",
        "    all_labels = []\n",
        "\n",
        "    with torch.no_grad():\n",
        "        for batch_x, batch_y in test_loader:\n",
        "            batch_x, batch_y = batch_x.to(device), batch_y.to(device)\n",
        "            outputs = torch.softmax(model(batch_x), dim=1)\n",
        "            probs = outputs[:, 1].cpu().numpy()\n",
        "            labels = batch_y.cpu().numpy()\n",
        "            all_probs.extend(probs)\n",
        "            all_labels.extend(labels)\n",
        "\n",
        "    auroc = roc_auc_score(all_labels, all_probs)\n",
        "    fpr, tpr, thresholds = roc_curve(all_labels, all_probs)\n",
        "\n",
        "    plt.figure(figsize=(8, 6))\n",
        "    plt.plot(fpr, tpr, label=f'ROC curve (AUROC = {auroc:.2f})')\n",
        "    plt.plot([0, 1], [0, 1], 'r--')\n",
        "    plt.xlabel('False Positive Rate')\n",
        "    plt.ylabel('True Positive Rate')\n",
        "    plt.title('ROC Curve')\n",
        "    plt.legend(loc=\"lower right\")\n",
        "    plt.tight_layout()\n",
        "    plt.show()\n",
        "\n",
        "    return auroc\n",
        "\n",
        "# 메인 함수\n",
        "def main():\n",
        "    device = torch.device('cuda' if torch.cuda.is_available() else 'cpu')\n",
        "\n",
        "    input_dim = X_train.shape[1]\n",
        "    hidden_dim = 128\n",
        "    num_heads = 4\n",
        "    num_classes = 2\n",
        "\n",
        "    model = TransformerClassifier(input_dim, hidden_dim, num_heads, num_classes).to(device)\n",
        "    criterion = nn.CrossEntropyLoss()\n",
        "    optimizer = optim.Adam(model.parameters(), lr=0.001)\n",
        "\n",
        "    num_epochs = 10\n",
        "    for epoch in tqdm(range(num_epochs)):\n",
        "        train_loss = train_model(model, train_loader, criterion, optimizer, device)\n",
        "        test_acc = evaluate_model(model, test_loader, device)\n",
        "        print(f'Epoch [{epoch+1}/{num_epochs}], Loss: {train_loss:.4f}, Test Accuracy: {test_acc:.2f}%')\n",
        "\n",
        "    auroc = calculate_and_plot_auroc(model, test_loader, device)\n",
        "    print(f'AUROC: {auroc:.4f}')\n",
        "\n",
        "\n",
        "main()\n"
      ],
      "metadata": {
        "id": "AsnHqmd5IybU",
        "colab": {
          "base_uri": "https://localhost:8080/",
          "height": 1000
        },
        "outputId": "86263844-b796-4a5c-e72c-1c210f71b7fb"
      },
      "execution_count": null,
      "outputs": [
        {
          "output_type": "stream",
          "name": "stderr",
          "text": [
            "<ipython-input-54-6ece3b9c03c8>:26: DeprecationWarning: is_categorical_dtype is deprecated and will be removed in a future version. Use isinstance(dtype, pd.CategoricalDtype) instead\n",
            "  if pd.api.types.is_categorical_dtype(df_processed[column]):\n",
            "<ipython-input-54-6ece3b9c03c8>:26: DeprecationWarning: is_categorical_dtype is deprecated and will be removed in a future version. Use isinstance(dtype, pd.CategoricalDtype) instead\n",
            "  if pd.api.types.is_categorical_dtype(df_processed[column]):\n",
            "<ipython-input-54-6ece3b9c03c8>:26: DeprecationWarning: is_categorical_dtype is deprecated and will be removed in a future version. Use isinstance(dtype, pd.CategoricalDtype) instead\n",
            "  if pd.api.types.is_categorical_dtype(df_processed[column]):\n",
            "<ipython-input-54-6ece3b9c03c8>:26: DeprecationWarning: is_categorical_dtype is deprecated and will be removed in a future version. Use isinstance(dtype, pd.CategoricalDtype) instead\n",
            "  if pd.api.types.is_categorical_dtype(df_processed[column]):\n",
            "<ipython-input-54-6ece3b9c03c8>:26: DeprecationWarning: is_categorical_dtype is deprecated and will be removed in a future version. Use isinstance(dtype, pd.CategoricalDtype) instead\n",
            "  if pd.api.types.is_categorical_dtype(df_processed[column]):\n",
            "<ipython-input-54-6ece3b9c03c8>:26: DeprecationWarning: is_categorical_dtype is deprecated and will be removed in a future version. Use isinstance(dtype, pd.CategoricalDtype) instead\n",
            "  if pd.api.types.is_categorical_dtype(df_processed[column]):\n",
            "<ipython-input-54-6ece3b9c03c8>:26: DeprecationWarning: is_categorical_dtype is deprecated and will be removed in a future version. Use isinstance(dtype, pd.CategoricalDtype) instead\n",
            "  if pd.api.types.is_categorical_dtype(df_processed[column]):\n",
            "<ipython-input-54-6ece3b9c03c8>:26: DeprecationWarning: is_categorical_dtype is deprecated and will be removed in a future version. Use isinstance(dtype, pd.CategoricalDtype) instead\n",
            "  if pd.api.types.is_categorical_dtype(df_processed[column]):\n",
            "<ipython-input-54-6ece3b9c03c8>:26: DeprecationWarning: is_categorical_dtype is deprecated and will be removed in a future version. Use isinstance(dtype, pd.CategoricalDtype) instead\n",
            "  if pd.api.types.is_categorical_dtype(df_processed[column]):\n",
            "<ipython-input-54-6ece3b9c03c8>:26: DeprecationWarning: is_categorical_dtype is deprecated and will be removed in a future version. Use isinstance(dtype, pd.CategoricalDtype) instead\n",
            "  if pd.api.types.is_categorical_dtype(df_processed[column]):\n",
            "<ipython-input-54-6ece3b9c03c8>:26: DeprecationWarning: is_categorical_dtype is deprecated and will be removed in a future version. Use isinstance(dtype, pd.CategoricalDtype) instead\n",
            "  if pd.api.types.is_categorical_dtype(df_processed[column]):\n",
            "<ipython-input-54-6ece3b9c03c8>:26: DeprecationWarning: is_categorical_dtype is deprecated and will be removed in a future version. Use isinstance(dtype, pd.CategoricalDtype) instead\n",
            "  if pd.api.types.is_categorical_dtype(df_processed[column]):\n",
            "<ipython-input-54-6ece3b9c03c8>:26: DeprecationWarning: is_categorical_dtype is deprecated and will be removed in a future version. Use isinstance(dtype, pd.CategoricalDtype) instead\n",
            "  if pd.api.types.is_categorical_dtype(df_processed[column]):\n",
            "/usr/local/lib/python3.10/dist-packages/torch/nn/modules/transformer.py:379: UserWarning: enable_nested_tensor is True, but self.use_nested_tensor is False because encoder_layer.self_attn.batch_first was not True(use batch_first for better inference performance)\n",
            "  warnings.warn(\n",
            " 10%|█         | 1/10 [00:04<00:44,  4.99s/it]"
          ]
        },
        {
          "output_type": "stream",
          "name": "stdout",
          "text": [
            "Epoch [1/10], Loss: 0.3714, Test Accuracy: 84.01%\n"
          ]
        },
        {
          "output_type": "stream",
          "name": "stderr",
          "text": [
            "\r 20%|██        | 2/10 [00:09<00:37,  4.72s/it]"
          ]
        },
        {
          "output_type": "stream",
          "name": "stdout",
          "text": [
            "Epoch [2/10], Loss: 0.3350, Test Accuracy: 84.59%\n"
          ]
        },
        {
          "output_type": "stream",
          "name": "stderr",
          "text": [
            "\r 30%|███       | 3/10 [00:15<00:36,  5.19s/it]"
          ]
        },
        {
          "output_type": "stream",
          "name": "stdout",
          "text": [
            "Epoch [3/10], Loss: 0.3291, Test Accuracy: 84.60%\n"
          ]
        },
        {
          "output_type": "stream",
          "name": "stderr",
          "text": [
            "\r 40%|████      | 4/10 [00:19<00:29,  4.86s/it]"
          ]
        },
        {
          "output_type": "stream",
          "name": "stdout",
          "text": [
            "Epoch [4/10], Loss: 0.3264, Test Accuracy: 84.39%\n"
          ]
        },
        {
          "output_type": "stream",
          "name": "stderr",
          "text": [
            "\r 50%|█████     | 5/10 [00:26<00:28,  5.68s/it]"
          ]
        },
        {
          "output_type": "stream",
          "name": "stdout",
          "text": [
            "Epoch [5/10], Loss: 0.3251, Test Accuracy: 84.91%\n"
          ]
        },
        {
          "output_type": "stream",
          "name": "stderr",
          "text": [
            "\r 60%|██████    | 6/10 [00:31<00:21,  5.31s/it]"
          ]
        },
        {
          "output_type": "stream",
          "name": "stdout",
          "text": [
            "Epoch [6/10], Loss: 0.3237, Test Accuracy: 84.69%\n"
          ]
        },
        {
          "output_type": "stream",
          "name": "stderr",
          "text": [
            "\r 70%|███████   | 7/10 [00:36<00:15,  5.14s/it]"
          ]
        },
        {
          "output_type": "stream",
          "name": "stdout",
          "text": [
            "Epoch [7/10], Loss: 0.3215, Test Accuracy: 84.78%\n"
          ]
        },
        {
          "output_type": "stream",
          "name": "stderr",
          "text": [
            "\r 80%|████████  | 8/10 [00:41<00:10,  5.28s/it]"
          ]
        },
        {
          "output_type": "stream",
          "name": "stdout",
          "text": [
            "Epoch [8/10], Loss: 0.3213, Test Accuracy: 84.80%\n"
          ]
        },
        {
          "output_type": "stream",
          "name": "stderr",
          "text": [
            "\r 90%|█████████ | 9/10 [00:46<00:05,  5.03s/it]"
          ]
        },
        {
          "output_type": "stream",
          "name": "stdout",
          "text": [
            "Epoch [9/10], Loss: 0.3210, Test Accuracy: 85.24%\n"
          ]
        },
        {
          "output_type": "stream",
          "name": "stderr",
          "text": [
            "100%|██████████| 10/10 [00:51<00:00,  5.13s/it]"
          ]
        },
        {
          "output_type": "stream",
          "name": "stdout",
          "text": [
            "Epoch [10/10], Loss: 0.3209, Test Accuracy: 84.58%\n"
          ]
        },
        {
          "output_type": "stream",
          "name": "stderr",
          "text": [
            "\n"
          ]
        },
        {
          "output_type": "display_data",
          "data": {
            "text/plain": [
              "<Figure size 800x600 with 1 Axes>"
            ],
            "image/png": "[encoded data removed]"
          },
          "metadata": {}
        },
        {
          "output_type": "stream",
          "name": "stdout",
          "text": [
            "AUROC: 0.9004\n"
          ]
        }
      ]
    },
    {
      "cell_type": "code",
      "source": [],
      "metadata": {
        "id": "gKO9LsVNNi1v"
      },
      "execution_count": null,
      "outputs": []
    }
  ]
}