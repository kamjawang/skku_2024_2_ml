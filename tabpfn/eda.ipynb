{
 "cells": [
  {
   "cell_type": "code",
   "execution_count": null,
   "metadata": {},
   "outputs": [],
   "source": [
    "!pip install gpytorch\n",
    "!pip install ConfigSpace\n",
    "!pip install openml"
   ]
  },
  {
   "cell_type": "code",
   "execution_count": null,
   "metadata": {},
   "outputs": [],
   "source": [
    "import autogluon"
   ]
  },
  {
   "cell_type": "code",
   "execution_count": null,
   "metadata": {},
   "outputs": [],
   "source": [
    "!pip install tabpfn[full]"
   ]
  },
  {
   "cell_type": "code",
   "execution_count": null,
   "metadata": {},
   "outputs": [],
   "source": [
    "!pip install scikit-learn==1.1.3\n"
   ]
  },
  {
   "cell_type": "code",
   "execution_count": null,
   "metadata": {},
   "outputs": [],
   "source": [
    "!pip install torch torchvision torchaudio --index-url https://download.pytorch.org/whl/cu118\n"
   ]
  },
  {
   "cell_type": "code",
   "execution_count": null,
   "metadata": {},
   "outputs": [],
   "source": [
    "import torch\n",
    "print(torch.version.cuda)  # 설치된 PyTorch가 지원하는 CUDA 버전\n",
    "print(torch.cuda.is_available())  # GPU 사용 가능 여부"
   ]
  },
  {
   "cell_type": "code",
   "execution_count": null,
   "metadata": {},
   "outputs": [],
   "source": [
    "import sys\n",
    "import numpy as np\n",
    "from pathlib import Path\n",
    "import pandas as pd\n",
    "import torch\n",
    "# import openml\n",
    "import os\n",
    "import time\n",
    "import matplotlib.pyplot as plt\n",
    "from matplotlib.colors import ListedColormap\n",
    "from pathlib import Path\n",
    "\n",
    "from sklearn.metrics import accuracy_score\n",
    "from sklearn.datasets import load_iris, load_wine, load_breast_cancer\n",
    "from sklearn.model_selection import train_test_split\n",
    "\n",
    "# tabpfn_path = 'TabPFN'\n",
    "# sys.path.insert(0, tabpfn_path)\n",
    "# from tabpfn.scripts.transformer_prediction_interface import TabPFNClassifier\n",
    "# from tabpfn.scripts.decision_boundary import DecisionBoundaryDisplay"
   ]
  },
  {
   "cell_type": "code",
   "execution_count": null,
   "metadata": {},
   "outputs": [],
   "source": [
    "X, y = load_wine(return_X_y=True)\n",
    "X_train, X_test, y_train, y_test = train_test_split(X, y, test_size=0.8, random_state=42)"
   ]
  },
  {
   "cell_type": "code",
   "execution_count": null,
   "metadata": {},
   "outputs": [],
   "source": [
    "# N_ensemble_configurations defines how many estimators are averaged, it is bounded by #features * #classes\n",
    "# more ensemble members are slower, but more accurate\n",
    "classifier = TabPFNClassifier(device='cuda', N_ensemble_configurations=4)"
   ]
  },
  {
   "cell_type": "code",
   "execution_count": null,
   "metadata": {},
   "outputs": [],
   "source": [
    "start = time.time()\n",
    "classifier.fit(X_train, y_train)\n",
    "y_eval, p_eval = classifier.predict(X_test, return_winning_probability=True)\n",
    "print('Prediction time: ', time.time() - start, 'Accuracy', accuracy_score(y_test, y_eval))"
   ]
  },
  {
   "cell_type": "code",
   "execution_count": null,
   "metadata": {},
   "outputs": [],
   "source": [
    "!pip install ucimlrepo"
   ]
  },
  {
   "cell_type": "code",
   "execution_count": null,
   "metadata": {},
   "outputs": [],
   "source": [
    "from ucimlrepo import fetch_ucirepo \n",
    "  \n",
    "# fetch dataset \n",
    "adult = fetch_ucirepo(id=2) \n",
    "  \n",
    "# data (as pandas dataframes) \n",
    "X = adult.data.features\n",
    "y = adult.data.targets \n",
    "  \n",
    "\n",
    "df = pd.concat([X,y],axis=1)\n",
    "\n",
    "df = df.dropna()\n",
    "\n",
    "df['income'] = df['income'].str.replace(r'K\\.', 'K', regex=True)\n",
    "\n",
    "# def stratified_sample(df, stratify_col, n_per_class, random_state=None, replace=False):\n",
    "#     return df.groupby(stratify_col).sample(n=n_per_class, replace=replace, random_state=random_state)\n",
    "\n",
    "# # 함수 사용 예\n",
    "# df = stratified_sample(df, stratify_col='income', n_per_class=400, random_state=1234)\n",
    "\n",
    "\n",
    "# # df = df.dropna()\n",
    "\n",
    "# # metadata \n",
    "# print(adult.metadata) \n",
    "  \n",
    "# # variable information \n",
    "# print(adult.variables) \n"
   ]
  },
  {
   "cell_type": "code",
   "execution_count": null,
   "metadata": {},
   "outputs": [],
   "source": [
    "df"
   ]
  },
  {
   "cell_type": "code",
   "execution_count": null,
   "metadata": {},
   "outputs": [],
   "source": [
    "df.income.value_counts()"
   ]
  },
  {
   "cell_type": "code",
   "execution_count": null,
   "metadata": {},
   "outputs": [],
   "source": [
    "X = df[['age', 'workclass', 'fnlwgt', 'education', 'education-num',\n",
    "       'marital-status', 'occupation', 'relationship', 'race', 'sex',\n",
    "       'capital-gain', 'capital-loss', 'hours-per-week', 'native-country',\n",
    "       ]]\n",
    "y = df[['income']]"
   ]
  },
  {
   "cell_type": "code",
   "execution_count": null,
   "metadata": {},
   "outputs": [],
   "source": [
    "from sklearn.preprocessing import LabelEncoder\n",
    "\n",
    "# Label Encoding\n",
    "le = LabelEncoder()\n",
    "# X['feature1'] = le.fit_transform(X['feature1'])  # feature1을 숫자로 변환\n",
    "y_label = le.fit_transform(y.astype(str))  # target 값도 변환\n",
    "\n",
    "# print(X)\n",
    "print(y_label)\n"
   ]
  },
  {
   "cell_type": "code",
   "execution_count": null,
   "metadata": {},
   "outputs": [],
   "source": [
    "y.info()"
   ]
  },
  {
   "cell_type": "code",
   "execution_count": null,
   "metadata": {},
   "outputs": [],
   "source": [
    "for i in ['workclass','education',\n",
    "       'marital-status', 'occupation', 'relationship', 'race', 'sex',\n",
    "       'native-country']:\n",
    "    X[f'{i}_cat'] = le.fit_transform(X[f'{i}'].astype(str))\n",
    "   #  X[f'{i}_cat'] = X[f'{i}_cat'].astype(str)  "
   ]
  },
  {
   "cell_type": "code",
   "execution_count": null,
   "metadata": {},
   "outputs": [],
   "source": [
    "X"
   ]
  },
  {
   "cell_type": "code",
   "execution_count": null,
   "metadata": {},
   "outputs": [],
   "source": [
    "X_cat = X[['age', 'fnlwgt', 'capital-gain', 'capital-loss', 'hours-per-week',\n",
    "       'workclass_cat', 'education_cat', 'marital-status_cat',\n",
    "       'occupation_cat', 'relationship_cat', 'race_cat', 'sex_cat',\n",
    "       'native-country_cat']]"
   ]
  },
  {
   "cell_type": "code",
   "execution_count": null,
   "metadata": {},
   "outputs": [],
   "source": [
    "X_cat.head()"
   ]
  },
  {
   "cell_type": "code",
   "execution_count": null,
   "metadata": {},
   "outputs": [],
   "source": [
    "X_train, X_test, y_train, y_test = train_test_split(X_cat, y_label, test_size=0.2, random_state=42)"
   ]
  },
  {
   "cell_type": "code",
   "execution_count": null,
   "metadata": {},
   "outputs": [],
   "source": [
    "max_configurations = X_train.shape[1] * len(set(y_train))\n",
    "print(\"최대 N_ensemble_configurations:\", max_configurations)"
   ]
  },
  {
   "cell_type": "code",
   "execution_count": null,
   "metadata": {},
   "outputs": [],
   "source": [
    "# N_ensemble_configurations defines how many estimators are averaged, it is bounded by #features * #classes\n",
    "# more ensemble members are slower, but more accurate\n",
    "classifier = TabPFNClassifier(device='cuda', N_ensemble_configurations=32)"
   ]
  },
  {
   "cell_type": "code",
   "execution_count": null,
   "metadata": {},
   "outputs": [],
   "source": [
    "start = time.time()\n",
    "classifier.fit(X_train, y_train)\n",
    "y_eval, p_eval = classifier.predict(X_test, return_winning_probability=True)\n",
    "print('Prediction time: ', time.time() - start, 'Accuracy', accuracy_score(y_test, y_eval))"
   ]
  },
  {
   "cell_type": "markdown",
   "metadata": {},
   "source": [
    "성능 개선 방법\n",
    "- N_ensemble_configurations 바꾸기 (특성 * class 종류 개수)\n",
    "- train/test 비율 8:2\n",
    "- class 불균형 맞추기\n",
    "- 여러번 샘플링 해서 결과를 투표로 결정\n"
   ]
  },
  {
   "cell_type": "code",
   "execution_count": null,
   "metadata": {},
   "outputs": [],
   "source": [
    "from collections import Counter\n",
    "# 샘플링 횟수와 결과 저장용 변수\n",
    "n_iterations = 10  # 반복 샘플링 횟수\n",
    "test_predictions = []  # 테스트 데이터의 예측 결과 저장\n",
    "\n",
    "for i in range(n_iterations):\n",
    "    # 학습 데이터 샘플링\n",
    "    X_train_sample, _, y_train_sample, _ = train_test_split(\n",
    "        X_train, y_train, test_size=0.2, random_state=i\n",
    "    )\n",
    "    \n",
    "    # 모델 학습 및 예측\n",
    "    classifier.fit(X_train_sample, y_train_sample)\n",
    "    y_pred = classifier.predict(X_test)\n",
    "    test_predictions.append(y_pred)\n",
    "\n",
    "# 예측값 집계 (인덱스별로 가장 많이 나온 값을 선택)\n",
    "final_predictions = []\n",
    "for i in range(len(X_test)):\n",
    "    # 각 테스트 샘플의 i번째 인덱스에 대해 다수결 집계\n",
    "    preds_for_index = [pred[i] for pred in test_predictions]\n",
    "    most_common = Counter(preds_for_index).most_common(1)[0][0]\n",
    "    final_predictions.append(most_common)\n",
    "\n",
    "# 최종 결과 평가\n",
    "accuracy = accuracy_score(y_test, final_predictions)\n",
    "print(f\"최종 다수결 예측 정확도: {accuracy}\")"
   ]
  },
  {
   "cell_type": "code",
   "execution_count": null,
   "metadata": {},
   "outputs": [],
   "source": []
  }
 ],
 "metadata": {
  "kernelspec": {
   "display_name": "base",
   "language": "python",
   "name": "python3"
  },
  "language_info": {
   "codemirror_mode": {
    "name": "ipython",
    "version": 3
   },
   "file_extension": ".py",
   "mimetype": "text/x-python",
   "name": "python",
   "nbconvert_exporter": "python",
   "pygments_lexer": "ipython3",
   "version": "3.11.7"
  }
 },
 "nbformat": 4,
 "nbformat_minor": 2
}
