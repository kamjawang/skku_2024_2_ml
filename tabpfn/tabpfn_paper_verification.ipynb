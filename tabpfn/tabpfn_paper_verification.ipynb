{
 "cells": [
  {
   "cell_type": "code",
   "execution_count": null,
   "metadata": {
    "id": "LMPD95hOUCFh"
   },
   "outputs": [],
   "source": [
    "!pip install gpytorch\n",
    "!pip install ConfigSpace\n",
    "!pip install openml"
   ]
  },
  {
   "cell_type": "code",
   "execution_count": null,
   "metadata": {
    "id": "sP0-P5OoVHhj"
   },
   "outputs": [],
   "source": [
    "!pip install tabpfn"
   ]
  },
  {
   "cell_type": "code",
   "execution_count": null,
   "metadata": {
    "id": "_KGQ4xGEVOi3"
   },
   "outputs": [],
   "source": [
    "!pip install scikit-learn==1.1.3"
   ]
  },
  {
   "cell_type": "code",
   "execution_count": null,
   "metadata": {},
   "outputs": [],
   "source": [
    "import torch\n",
    "print(torch.version.cuda)  # 설치된 PyTorch가 지원하는 CUDA 버전\n",
    "print(torch.cuda.is_available())  # GPU 사용 가능 여부"
   ]
  },
  {
   "cell_type": "code",
   "execution_count": null,
   "metadata": {
    "colab": {
     "base_uri": "https://localhost:8080/"
    },
    "id": "_c0irT5uVCrg",
    "outputId": "d762360a-234a-4568-bb8d-39c472336127"
   },
   "outputs": [],
   "source": [
    "import openml\n",
    "# OpenML-CC18 벤치마크 데이터셋 로드\n",
    "benchmark_suite = openml.study.get_suite('OpenML-CC18')\n",
    "\n",
    "# 데이터셋 목록 출력\n",
    "print(benchmark_suite.data)"
   ]
  },
  {
   "cell_type": "code",
   "execution_count": null,
   "metadata": {
    "id": "rJ63vczQVaKE"
   },
   "outputs": [],
   "source": [
    "# OpenML API Key 설정 (웹사이트에서 발급받은 API 키로 교체)\n",
    "openml.config.apikey = '046eaf7fbf653b9d44127e029f473fb7'"
   ]
  },
  {
   "cell_type": "code",
   "execution_count": null,
   "metadata": {
    "id": "BiwaRtrcVb0P"
   },
   "outputs": [],
   "source": [
    "data_list = [11,14,15,16,18,22,23,29,31,37,50,54,188,1049,1050,1063,1068,1462,1464,1480,1494,1510,6332,23381,40966,40975,40982,40994]"
   ]
  },
  {
   "cell_type": "code",
   "execution_count": null,
   "metadata": {
    "colab": {
     "base_uri": "https://localhost:8080/",
     "height": 1000
    },
    "id": "Xayns0wNVeeT",
    "outputId": "707f41c3-587e-4699-9856-8462f1177a6e"
   },
   "outputs": [],
   "source": [
    "import pandas as pd\n",
    "from sklearn.metrics import roc_auc_score\n",
    "from sklearn.datasets import load_breast_cancer\n",
    "from sklearn.model_selection import train_test_split\n",
    "from tabpfn import TabPFNClassifier\n",
    "import numpy as np\n",
    "from sklearn.metrics import accuracy_score\n",
    "from sklearn.metrics import log_loss\n",
    "\n",
    "\n",
    "\n",
    "# 결과를 저장할 딕셔너리\n",
    "datasets = {}\n",
    "acc = []\n",
    "roc = []\n",
    "ce = []\n",
    "\n",
    "for dataset_id in data_list:\n",
    "\n",
    "\n",
    "    # 데이터셋 로드\n",
    "    dataset = openml.datasets.get_dataset(dataset_id)\n",
    "\n",
    "    # 데이터셋 이름 가져오기 (고유 이름으로 사용)\n",
    "    dataset_name = dataset.name.replace(\" \", \"_\")  # 공백 제거\n",
    "    # print(f\"Loading dataset: {dataset_name} (ID: {dataset_id})\")\n",
    "\n",
    "    # 데이터셋을 DataFrame으로 가져오기\n",
    "    X, y, _, attribute_names = dataset.get_data(target=dataset.default_target_attribute)\n",
    "\n",
    "    # print(f'Dataset shape : {X.shape}')\n",
    "    # print(f\"Dataset dtypes:\\n{X.dtypes}\")\n",
    "   \n",
    "    # 비수치형 데이터 식별 및 변환\n",
    "    for col in X.columns:\n",
    "        if X[col].dtype.name == 'category':\n",
    "            # print(f\"Converting categorical column: {col}\")\n",
    "            X[col] = X[col].cat.codes  # category를 정수형 코드로 변환\n",
    "        elif not np.issubdtype(X[col].dtype, np.number):\n",
    "            # print(f\"Converting non-numeric column: {col}\")\n",
    "            X[col] = pd.to_numeric(X[col], errors='coerce')  # 문자열 데이터는 수치형으로 변환\n",
    "\n",
    "    # 결측값 처리\n",
    "    X = X.fillna(0)  # 결측값을 0으로 대체\n",
    "\n",
    "    # 데이터프레임을 numpy 배열로 변환\n",
    "    X = X.to_numpy()\n",
    "    y = y.to_numpy()\n",
    "\n",
    "    # 데이터 타입 확인\n",
    "    # print(f\"X dtype: {X.dtype}, y dtype: {y.dtype}\")\n",
    "\n",
    "# 데이터 크기 제한 및 train/test 분리\n",
    "    if len(X) > 1024:\n",
    "        # 테스트 데이터 분리\n",
    "        X_train_full, X_test, y_train_full, y_test = train_test_split(X, y, test_size=0.33, random_state=42)\n",
    "        \n",
    "        # 학습 데이터 크기가 1024보다 작은 경우 처리\n",
    "        train_size = min(1024, len(X_train_full)-1)\n",
    "        X_train, _, y_train, _ = train_test_split(X_train_full, y_train_full, train_size=train_size, random_state=42)\n",
    "    else:\n",
    "        # 데이터 크기가 작다면 그대로 분리\n",
    "        X_train, X_test, y_train, y_test = train_test_split(X, y, test_size=0.33, random_state=42)\n",
    "\n",
    "    # print(f\"X_train shape: {X_train.shape}\")\n",
    "    # print(f\"X_test shape: {X_test.shape}\")\n",
    "\n",
    "    # TabPFN 모델 생성\n",
    "    classifier = TabPFNClassifier(device='cuda', N_ensemble_configurations=32)\n",
    "\n",
    "    # 모델 학습\n",
    "    classifier.fit(X_train, y_train)\n",
    "\n",
    "    y_eval, p_eval = classifier.predict(X_test, return_winning_probability=True)\n",
    "\n",
    "    # 데이터 확인\n",
    "    # print(f\"Dataset '{dataset_name}' loaded with shape: {df.shape}\")\n",
    "    accu = accuracy_score(y_test, y_eval)\n",
    "    acc.append(accu)\n",
    "    print(f'Loading dataset: {dataset_name} (ID: {dataset_id}) Accuracy : {accu}')\n",
    "\n",
    "\n",
    "    # 예측 (확률 반환)\n",
    "    y_prob = classifier.predict_proba(X_test)\n",
    "    \n",
    "\n",
    "    # y_test가 2D 배열인지 확인하고 변환\n",
    "    if len(y_test.shape) > 1:\n",
    "        y_test = y_test.ravel()\n",
    "\n",
    "  \n",
    "    # ROC AUC OVO 계산 (이진 분류의 경우)\n",
    "    if y_prob.ndim == 2 and y_prob.shape[1] == 2:\n",
    "        roc_auc = roc_auc_score(y_test, y_prob[:, 1])\n",
    "    else:\n",
    "        # 다중 클래스의 경우 OVO\n",
    "        roc_auc = roc_auc_score(y_test, y_prob, multi_class='ovo', average='macro')\n",
    "\n",
    "\n",
    "    roc.append(roc_auc)\n",
    "\n",
    "    print(f\"Loading dataset: {dataset_name} (ID: {dataset_id}) ROC AUC OVO Score: {roc_auc:.4f}\")\n",
    "\n",
    "\n",
    "print(f'Mean Acc. : {np.mean(acc)}, Mean AUC OVO : {np.mean(roc)}')"
   ]
  }
 ],
 "metadata": {
  "accelerator": "GPU",
  "colab": {
   "gpuType": "T4",
   "provenance": []
  },
  "kernelspec": {
   "display_name": "base",
   "language": "python",
   "name": "python3"
  },
  "language_info": {
   "codemirror_mode": {
    "name": "ipython",
    "version": 3
   },
   "file_extension": ".py",
   "mimetype": "text/x-python",
   "name": "python",
   "nbconvert_exporter": "python",
   "pygments_lexer": "ipython3",
   "version": "3.11.7"
  }
 },
 "nbformat": 4,
 "nbformat_minor": 0
}
